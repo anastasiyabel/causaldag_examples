{
 "cells": [
  {
   "cell_type": "code",
   "execution_count": 1,
   "metadata": {},
   "outputs": [],
   "source": [
    "import causaldag as cd\n",
    "from causaldag.inference.structural import gsp\n",
    "from causaldag.utils.ci_tests import gauss_ci_test\n",
    "from causaldag.utils.ci_tests import hsic_test\n",
    "import numpy as np\n",
    "from pprint import pprint\n",
    "import random"
   ]
  },
  {
   "cell_type": "markdown",
   "metadata": {},
   "source": [
    "Create the graph $0 \\rightarrow 1 \\leftarrow 2$"
   ]
  },
  {
   "cell_type": "code",
   "execution_count": 2,
   "metadata": {},
   "outputs": [],
   "source": [
    "dag = cd.DAG(arcs={(0, 1), (2, 1)})"
   ]
  },
  {
   "cell_type": "markdown",
   "metadata": {},
   "source": [
    "Turn the graph into GaussDAG, which will allow us to sample from it. Use random edge weights to avoid faithfulness violation. By default, edge weights are sampled uniformly from $\\pm[.25, 1]$."
   ]
  },
  {
   "cell_type": "code",
   "execution_count": 3,
   "metadata": {},
   "outputs": [],
   "source": [
    "gdag = cd.rand.rand_weights(dag)"
   ]
  },
  {
   "cell_type": "markdown",
   "metadata": {},
   "source": [
    "Take $n$ samples"
   ]
  },
  {
   "cell_type": "code",
   "execution_count": 4,
   "metadata": {},
   "outputs": [],
   "source": [
    "nsamples = 500\n",
    "np.random.seed(1729)\n",
    "random.seed(1729)\n",
    "samples = gdag.sample(nsamples)"
   ]
  },
  {
   "cell_type": "markdown",
   "metadata": {},
   "source": [
    "Form the sufficient statistics dictionary for the CI test.\n",
    "\n",
    "*The gauss_ci test requires a correlation matrix and the number of samples*"
   ]
  },
  {
   "cell_type": "code",
   "execution_count": 5,
   "metadata": {},
   "outputs": [],
   "source": [
    "corr = np.corrcoef(samples, rowvar=False)\n",
    "suffstat = dict(C=corr, n=nsamples)"
   ]
  },
  {
   "cell_type": "markdown",
   "metadata": {},
   "source": [
    "Run GSP"
   ]
  },
  {
   "cell_type": "code",
   "execution_count": 6,
   "metadata": {},
   "outputs": [],
   "source": [
    "nnodes = 3  # this could be inferred from the sufficient statistics in the future\n",
    "np.random.seed(1729)\n",
    "random.seed(1729)\n",
    "est_dag, summaries = gsp(suffstat, nnodes, gauss_ci_test, alpha=.05, depth=4, nruns=30)"
   ]
  },
  {
   "cell_type": "markdown",
   "metadata": {},
   "source": [
    "Print the result. The convention for displaying a DAG as a string follows pcalg/bnlearn in R: [i|j,k,l] means that j,k, and l are parents of i."
   ]
  },
  {
   "cell_type": "code",
   "execution_count": 7,
   "metadata": {},
   "outputs": [
    {
     "name": "stdout",
     "output_type": "stream",
     "text": [
      "[2][0][1|0,2]\n"
     ]
    }
   ],
   "source": [
    "print(est_dag)"
   ]
  },
  {
   "cell_type": "markdown",
   "metadata": {},
   "source": [
    "GSP returns the smallest DAG found over the course of multiple runs of the algorithm. `summaries` is a list containing details about each run. \n",
    "\n",
    "Each summary run's summary lists the DAGs in the order they were visited, their sparsity, and the search depth of the depth-first search procedure."
   ]
  },
  {
   "cell_type": "code",
   "execution_count": 8,
   "metadata": {},
   "outputs": [
    {
     "name": "stdout",
     "output_type": "stream",
     "text": [
      "[{'dag': [2][0][1|0,2], 'depth': 0, 'num_arcs': 2}]\n"
     ]
    }
   ],
   "source": [
    "pprint(summaries[0])  # in this run, the starting DAG had no covered edges"
   ]
  },
  {
   "cell_type": "code",
   "execution_count": 9,
   "metadata": {},
   "outputs": [
    {
     "name": "stdout",
     "output_type": "stream",
     "text": [
      "[{'dag': [1][2|1][0|1,2], 'depth': 0, 'num_arcs': 3},\n",
      " {'dag': [1][0|1][2|0,1], 'depth': 1, 'num_arcs': 3},\n",
      " {'dag': [0][1|0][2|0,1], 'depth': 2, 'num_arcs': 3},\n",
      " {'dag': [2][0][1|0,2], 'depth': 0, 'num_arcs': 2}]\n"
     ]
    }
   ],
   "source": [
    "pprint(summaries[3])  # this run is less trivial"
   ]
  },
  {
   "cell_type": "markdown",
   "metadata": {},
   "source": [
    "Use the non-parametric HSIC test as the CI test. The sufficient statistic for this test is simply the data itself (note: in the future, this should be a dictionary for the sake of consistency)."
   ]
  },
  {
   "cell_type": "code",
   "execution_count": 10,
   "metadata": {},
   "outputs": [
    {
     "name": "stderr",
     "output_type": "stream",
     "text": [
      "/usr/local/lib/python3.6/site-packages/scipy/linalg/basic.py:1321: RuntimeWarning: internal gelsd driver lwork query error, required iwork dimension not returned. This is likely the result of LAPACK bug 0038, fixed in LAPACK 3.2.2 (released July 21, 2010). Falling back to 'gelss' driver.\n",
      "  x, resids, rank, s = lstsq(a, b, cond=cond, check_finite=False)\n"
     ]
    }
   ],
   "source": [
    "np.random.seed(1729)\n",
    "random.seed(1729)\n",
    "est_dag, summaries = gsp(samples, nnodes, hsic_test)"
   ]
  },
  {
   "cell_type": "code",
   "execution_count": 11,
   "metadata": {},
   "outputs": [
    {
     "name": "stdout",
     "output_type": "stream",
     "text": [
      "[2][0][1|0,2]\n"
     ]
    }
   ],
   "source": [
    "print(est_dag)"
   ]
  },
  {
   "cell_type": "code",
   "execution_count": null,
   "metadata": {},
   "outputs": [],
   "source": []
  }
 ],
 "metadata": {
  "kernelspec": {
   "display_name": "causaldag_examples",
   "language": "python",
   "name": "causaldag_examples"
  },
  "language_info": {
   "codemirror_mode": {
    "name": "ipython",
    "version": 3
   },
   "file_extension": ".py",
   "mimetype": "text/x-python",
   "name": "python",
   "nbconvert_exporter": "python",
   "pygments_lexer": "ipython3",
   "version": "3.6.5"
  }
 },
 "nbformat": 4,
 "nbformat_minor": 2
}
