{
 "cells": [
  {
   "cell_type": "code",
   "execution_count": 2,
   "metadata": {
    "ExecuteTime": {
     "end_time": "2019-05-07T18:45:31.611200Z",
     "start_time": "2019-05-07T18:45:30.292511Z"
    }
   },
   "outputs": [],
   "source": [
    "import causaldag as cd\n",
    "from causaldag.inference.structural import gsp, threshold_ug\n",
    "from causaldag.utils.ci_tests import gauss_ci_test, MemoizedCI_Tester, dsep_test\n",
    "from causaldag.utils.ci_tests import hsic_test\n",
    "import numpy as np\n",
    "from pprint import pprint\n",
    "import random\n",
    "from sklearn.covariance import GraphicalLassoCV\n",
    "import warnings\n",
    "warnings.filterwarnings(\"ignore\", category=RuntimeWarning)"
   ]
  },
  {
   "cell_type": "markdown",
   "metadata": {},
   "source": [
    "## Create random DAGs"
   ]
  },
  {
   "cell_type": "code",
   "execution_count": 3,
   "metadata": {
    "ExecuteTime": {
     "end_time": "2019-05-07T18:45:31.976615Z",
     "start_time": "2019-05-07T18:45:31.613793Z"
    }
   },
   "outputs": [],
   "source": [
    "nnodes = 10\n",
    "sparsity = 2/(nnodes - 1)\n",
    "nsamples = 10000\n",
    "ndags = 50\n",
    "\n",
    "np.random.seed(3881)\n",
    "random.seed(1883)\n",
    "dags = cd.rand.directed_erdos(nnodes, sparsity, ndags)\n",
    "gdags = [cd.rand.rand_weights(dag) for dag in dags]\n",
    "samples_list = [gdag.sample(nsamples) for gdag in gdags]\n",
    "suffstats = [\n",
    "    dict(C=np.corrcoef(samples, rowvar=False), n=nsamples) for samples in samples_list\n",
    "]"
   ]
  },
  {
   "cell_type": "markdown",
   "metadata": {},
   "source": [
    "## Algorithm settings"
   ]
  },
  {
   "cell_type": "code",
   "execution_count": 4,
   "metadata": {
    "ExecuteTime": {
     "end_time": "2019-05-07T18:45:34.502971Z",
     "start_time": "2019-05-07T18:45:34.498351Z"
    }
   },
   "outputs": [],
   "source": [
    "depth = 5\n",
    "nruns = 10"
   ]
  },
  {
   "cell_type": "markdown",
   "metadata": {},
   "source": [
    "## Estimate with GSP with random initialization"
   ]
  },
  {
   "cell_type": "code",
   "execution_count": 5,
   "metadata": {
    "ExecuteTime": {
     "end_time": "2019-05-07T18:45:38.417538Z",
     "start_time": "2019-05-07T18:45:35.590698Z"
    }
   },
   "outputs": [],
   "source": [
    "est_dags_random = []\n",
    "for suffstat in suffstats:\n",
    "    tester = MemoizedCI_Tester(gauss_ci_test, suffstat, alpha=.05)\n",
    "    est_dags_random.append(gsp(nnodes, tester, depth=depth, nruns=nruns)[0])"
   ]
  },
  {
   "cell_type": "markdown",
   "metadata": {},
   "source": [
    "## Estimate with GSP initializing based on undirected graph"
   ]
  },
  {
   "cell_type": "code",
   "execution_count": 6,
   "metadata": {
    "ExecuteTime": {
     "end_time": "2019-05-07T18:45:41.617951Z",
     "start_time": "2019-05-07T18:45:39.633025Z"
    }
   },
   "outputs": [],
   "source": [
    "est_dags_smart = []\n",
    "for suffstat in suffstats:\n",
    "    tester = MemoizedCI_Tester(gauss_ci_test, suffstat, alpha=.05)\n",
    "    ug = threshold_ug(nnodes, tester)\n",
    "    est_dags_smart.append(gsp(nnodes, tester, depth=depth, nruns=nruns, initial_undirected=ug)[0])"
   ]
  },
  {
   "cell_type": "markdown",
   "metadata": {},
   "source": [
    "## Estimate with GSP initializing based on graphical lasso"
   ]
  },
  {
   "cell_type": "code",
   "execution_count": 7,
   "metadata": {
    "ExecuteTime": {
     "end_time": "2019-05-07T18:46:07.652945Z",
     "start_time": "2019-05-07T18:45:55.016730Z"
    }
   },
   "outputs": [],
   "source": [
    "est_dags_glasso = []\n",
    "for suffstat in suffstats:\n",
    "    tester = MemoizedCI_Tester(gauss_ci_test, suffstat, alpha=.05)\n",
    "    gl = GraphicalLassoCV(cv=3)\n",
    "    gl.fit(suffstat['C'])\n",
    "    edges = {(i, j) for i, j in zip(*gl.precision_.nonzero()) if i != j}\n",
    "    ug = cd.UndirectedGraph(nodes=set(range(nnodes)), edges=edges)\n",
    "    est_dags_glasso.append(gsp(nnodes, tester, depth=depth, nruns=nruns, initial_undirected=ug)[0])"
   ]
  },
  {
   "cell_type": "markdown",
   "metadata": {},
   "source": [
    "# Compare results"
   ]
  },
  {
   "cell_type": "code",
   "execution_count": 8,
   "metadata": {
    "ExecuteTime": {
     "end_time": "2019-05-07T18:46:09.328584Z",
     "start_time": "2019-05-07T18:46:09.317137Z"
    }
   },
   "outputs": [
    {
     "name": "stdout",
     "output_type": "stream",
     "text": [
      "2.44\n",
      "2.44\n",
      "3.52\n"
     ]
    }
   ],
   "source": [
    "shd_skeleton_random = [\n",
    "    dag.shd_skeleton(est_dag) for dag, est_dag in zip(dags, est_dags_random)\n",
    "]\n",
    "shd_skeleton_smart = [\n",
    "    dag.shd_skeleton(est_dag) for dag, est_dag in zip(dags, est_dags_smart)\n",
    "]\n",
    "shd_skeleton_glasso = [\n",
    "    dag.shd_skeleton(est_dag) for dag, est_dag in zip(dags, est_dags_glasso)\n",
    "]\n",
    "print(np.mean(shd_skeleton_random))\n",
    "print(np.mean(shd_skeleton_smart))\n",
    "print(np.mean(shd_skeleton_glasso))"
   ]
  },
  {
   "cell_type": "code",
   "execution_count": 9,
   "metadata": {
    "ExecuteTime": {
     "end_time": "2019-05-07T18:46:10.349494Z",
     "start_time": "2019-05-07T18:46:10.321165Z"
    }
   },
   "outputs": [
    {
     "name": "stdout",
     "output_type": "stream",
     "text": [
      "3.92\n",
      "4.06\n",
      "5.56\n"
     ]
    }
   ],
   "source": [
    "shd_cpdag_random = [\n",
    "    dag.cpdag().shd(est_dag.cpdag()) for dag, est_dag in zip(dags, est_dags_random)\n",
    "]\n",
    "shd_cpdag_smart = [\n",
    "    dag.cpdag().shd(est_dag.cpdag()) for dag, est_dag in zip(dags, est_dags_smart)\n",
    "]\n",
    "shd_cpdag_glasso = [\n",
    "    dag.cpdag().shd(est_dag.cpdag()) for dag, est_dag in zip(dags, est_dags_glasso)\n",
    "]\n",
    "print(np.mean(shd_cpdag_random))\n",
    "print(np.mean(shd_cpdag_smart))\n",
    "print(np.mean(shd_cpdag_glasso))"
   ]
  },
  {
   "cell_type": "code",
   "execution_count": 10,
   "metadata": {
    "ExecuteTime": {
     "end_time": "2019-05-07T18:46:11.235745Z",
     "start_time": "2019-05-07T18:46:11.199928Z"
    }
   },
   "outputs": [
    {
     "name": "stdout",
     "output_type": "stream",
     "text": [
      "0.08\n",
      "0.08\n",
      "0.08\n"
     ]
    }
   ],
   "source": [
    "markov_equivalent_random = [\n",
    "    dag.markov_equivalent(est_dag) for dag, est_dag in zip(dags, est_dags_random)\n",
    "]\n",
    "markov_equivalent_smart = [\n",
    "    dag.markov_equivalent(est_dag) for dag, est_dag in zip(dags, est_dags_smart)\n",
    "]\n",
    "markov_equivalent_glasso = [\n",
    "    dag.markov_equivalent(est_dag) for dag, est_dag in zip(dags, est_dags_glasso)\n",
    "]\n",
    "print(np.mean(markov_equivalent_random))\n",
    "print(np.mean(markov_equivalent_smart))\n",
    "print(np.mean(markov_equivalent_glasso))"
   ]
  },
  {
   "cell_type": "markdown",
   "metadata": {},
   "source": [
    "# Oracle results"
   ]
  },
  {
   "cell_type": "code",
   "execution_count": 11,
   "metadata": {
    "ExecuteTime": {
     "end_time": "2019-05-07T18:46:14.205270Z",
     "start_time": "2019-05-07T18:46:12.555722Z"
    }
   },
   "outputs": [],
   "source": [
    "est_dags_oracle = []\n",
    "for dag in dags:\n",
    "    tester = MemoizedCI_Tester(dsep_test, dag)\n",
    "    ug = threshold_ug(nnodes, tester)\n",
    "    est_dags_oracle.append(gsp(nnodes, tester, depth=depth, nruns=nruns, initial_undirected=ug)[0])"
   ]
  },
  {
   "cell_type": "code",
   "execution_count": 12,
   "metadata": {
    "ExecuteTime": {
     "end_time": "2019-05-07T18:46:14.917025Z",
     "start_time": "2019-05-07T18:46:14.893781Z"
    }
   },
   "outputs": [
    {
     "name": "stdout",
     "output_type": "stream",
     "text": [
      "0.0\n",
      "0.0\n",
      "1.0\n"
     ]
    }
   ],
   "source": [
    "shd_skeleton_oracle = [\n",
    "    dag.shd_skeleton(est_dag) for dag, est_dag in zip(dags, est_dags_oracle)\n",
    "]\n",
    "shd_cpdag_oracle = [\n",
    "    dag.cpdag().shd(est_dag.cpdag()) for dag, est_dag in zip(dags, est_dags_oracle)\n",
    "]\n",
    "markov_equivalent_oracle = [\n",
    "    dag.markov_equivalent(est_dag) for dag, est_dag in zip(dags, est_dags_oracle)\n",
    "]\n",
    "print(np.mean(shd_skeleton_oracle))\n",
    "print(np.mean(shd_cpdag_oracle))\n",
    "print(np.mean(markov_equivalent_oracle))"
   ]
  },
  {
   "cell_type": "code",
   "execution_count": null,
   "metadata": {},
   "outputs": [],
   "source": []
  }
 ],
 "metadata": {
  "@webio": {
   "lastCommId": null,
   "lastKernelId": null
  },
  "kernelspec": {
   "display_name": "causaldag_examples",
   "language": "python",
   "name": "causaldag_examples"
  },
  "language_info": {
   "codemirror_mode": {
    "name": "ipython",
    "version": 3
   },
   "file_extension": ".py",
   "mimetype": "text/x-python",
   "name": "python",
   "nbconvert_exporter": "python",
   "pygments_lexer": "ipython3",
   "version": "3.6.5"
  }
 },
 "nbformat": 4,
 "nbformat_minor": 2
}
